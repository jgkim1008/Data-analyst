{
 "cells": [
  {
   "cell_type": "code",
   "execution_count": 1,
   "metadata": {},
   "outputs": [],
   "source": [
    "import pandas as pd\n",
    "\n",
    "file = \"./rawfiles/data/CARD_SUBWAY_MONTH_201901.csv\"\n",
    "\n",
    "raw = pd.read_csv(file, encoding = 'utf-8')\n"
   ]
  },
  {
   "cell_type": "code",
   "execution_count": 2,
   "metadata": {},
   "outputs": [
    {
     "name": "stdout",
     "output_type": "stream",
     "text": [
      "<class 'pandas.core.frame.DataFrame'>\n",
      "RangeIndex: 18334 entries, 0 to 18333\n",
      "Data columns (total 7 columns):\n",
      " #   Column  Non-Null Count  Dtype \n",
      "---  ------  --------------  ----- \n",
      " 0   사용일자    18334 non-null  int64 \n",
      " 1   노선명     18334 non-null  object\n",
      " 2   역ID     18334 non-null  int64 \n",
      " 3   역명      18334 non-null  object\n",
      " 4   승차총승객수  18334 non-null  int64 \n",
      " 5   하차총승객수  18334 non-null  int64 \n",
      " 6   등록일자    18334 non-null  int64 \n",
      "dtypes: int64(5), object(2)\n",
      "memory usage: 1002.8+ KB\n"
     ]
    }
   ],
   "source": [
    "raw.head()\n",
    "raw.info()"
   ]
  },
  {
   "cell_type": "raw",
   "metadata": {},
   "source": []
  },
  {
   "cell_type": "code",
   "execution_count": 10,
   "metadata": {},
   "outputs": [
    {
     "ename": "SyntaxError",
     "evalue": "unexpected EOF while parsing (<ipython-input-10-11daef9e2f77>, line 8)",
     "output_type": "error",
     "traceback": [
      "\u001b[1;36m  File \u001b[1;32m\"<ipython-input-10-11daef9e2f77>\"\u001b[1;36m, line \u001b[1;32m8\u001b[0m\n\u001b[1;33m    print(files\u001b[0m\n\u001b[1;37m               ^\u001b[0m\n\u001b[1;31mSyntaxError\u001b[0m\u001b[1;31m:\u001b[0m unexpected EOF while parsing\n"
     ]
    }
   ],
   "source": []
  },
  {
   "cell_type": "code",
   "execution_count": 3,
   "metadata": {},
   "outputs": [
    {
     "name": "stdout",
     "output_type": "stream",
     "text": [
      "['CARD_SUBWAY_MONTH_201901.csv', 'CARD_SUBWAY_MONTH_201902.csv', 'CARD_SUBWAY_MONTH_201903.csv', 'CARD_SUBWAY_MONTH_201904.csv', 'CARD_SUBWAY_MONTH_201905.csv', 'CARD_SUBWAY_MONTH_201906.csv']\n",
      "           사용일자  노선명   역ID    역명  승차총승객수  하차총승객수      등록일자\n",
      "0      20190101  경춘선  1323    가평    1520    1436  20190104\n",
      "1      20190101  경춘선  1322    상천     275     114  20190104\n",
      "2      20190101  경춘선  1321    청평    1509    1083  20190104\n",
      "3      20190101  경춘선  1320   대성리     357     271  20190104\n",
      "4      20190101  경춘선  1319    마석    1772    1963  20190104\n",
      "...         ...  ...   ...   ...     ...     ...       ...\n",
      "18329  20190131  1호선   155   동대문   14563   15139  20190203\n",
      "18330  20190131  1호선   154  종로5가   30249   29703  20190203\n",
      "18331  20190131  1호선   153  종로3가   36804   35050  20190203\n",
      "18332  20190131  1호선   152    종각   51970   50080  20190203\n",
      "18333  20190131  1호선   151    시청   29059   29169  20190203\n",
      "\n",
      "[18334 rows x 7 columns]\n",
      "           사용일자    노선명   역ID          역명  승차총승객수  하차총승객수      등록일자\n",
      "0      20190201    중앙선  1213          신원     186     164  20190204\n",
      "1      20190201    중앙선  1214          국수     668     669  20190204\n",
      "2      20190201    중앙선  1215          아신     556     571  20190204\n",
      "3      20190201    중앙선  1216          오빈     300     307  20190204\n",
      "4      20190201    중앙선  1217          양평    2975    3236  20190204\n",
      "...         ...    ...   ...         ...     ...     ...       ...\n",
      "16538  20190228  우이신설선  4709      북한산보국문    6564    6029  20190303\n",
      "16539  20190228  우이신설선  4710          정릉    4821    4348  20190303\n",
      "16540  20190228    경춘선  1314         퇴계원    4212    3899  20190303\n",
      "16541  20190228  우이신설선  4711  성신여대입구(돈암)    4058    4452  20190303\n",
      "16542  20190228  우이신설선  4712          보문    1803    1836  20190303\n",
      "\n",
      "[16543 rows x 7 columns]\n",
      "           사용일자    노선명   역ID   역명  승차총승객수  하차총승객수      등록일자\n",
      "0      20190301    중앙선  1220   지평      38      49  20190304\n",
      "1      20190301    중앙선  1219   용문    2804    3073  20190304\n",
      "2      20190301    중앙선  1218   원덕     439     479  20190304\n",
      "3      20190301    중앙선  1217   양평    2984    3291  20190304\n",
      "4      20190301    중앙선  1216   오빈     311     338  20190304\n",
      "...         ...    ...   ...  ...     ...     ...       ...\n",
      "12424  20190331    중앙선  1215   아신     618     564  20190403\n",
      "12425  20190331    중앙선  1216   오빈     292     264  20190403\n",
      "12426  20190331    중앙선  1217   양평    2907    2644  20190403\n",
      "12427  20190331    중앙선  1218   원덕     492     483  20190403\n",
      "12428  20190331  우이신설선  4704  가오리    2538    2424  20190403\n",
      "\n",
      "[12429 rows x 7 columns]\n",
      "           사용일자  노선명   역ID  역명  승차총승객수  하차총승객수      등록일자\n",
      "0      20190401  9호선  4110  염창   19187   18800  20190404\n",
      "1      20190401  경부선  1701  구로   23227   23822  20190404\n",
      "2      20190401  경부선  1032  신길   11533    9602  20190404\n",
      "3      20190401  경부선  1706  안양   33902   33311  20190404\n",
      "4      20190401  경부선  1707  명학   12938   13184  20190404\n",
      "...         ...  ...   ...  ..     ...     ...       ...\n",
      "16561  20190430  경의선  1278  운정    7459    6869  20190503\n",
      "16562  20190430  경의선  1277  야당    6382    6033  20190503\n",
      "16563  20190430  경의선  1276  탄현    9750    9323  20190503\n",
      "16564  20190430  경의선  1275  일산   11971   11647  20190503\n",
      "16565  20190430  경의선  1274  풍산    6474    5886  20190503\n",
      "\n",
      "[16566 rows x 7 columns]\n",
      "           사용일자  노선명   역ID       역명  승차총승객수  하차총승객수      등록일자\n",
      "0      20190501  일산선  1955       마두    8528    8796  20190504\n",
      "1      20190501  일산선  1954       백석   10118   10399  20190504\n",
      "2      20190501  일산선  1953       대곡    1655    1406  20190504\n",
      "3      20190501  일산선  1952       화정   20102   20951  20190504\n",
      "4      20190501  일산선  1951       원당   11419   11064  20190504\n",
      "...         ...  ...   ...      ...     ...     ...       ...\n",
      "17741  20190531  수인선  1885       연수    6405    6455  20190603\n",
      "17742  20190531  수인선  1884      원인재    5465    5571  20190603\n",
      "17743  20190531  수인선  1883  남동인더스파크    2582    2910  20190603\n",
      "17744  20190531  8호선  2822       산성    7161    6841  20190603\n",
      "17745  20190531  중앙선  1220       지평      66      84  20190603\n",
      "\n",
      "[17746 rows x 7 columns]\n",
      "           사용일자    노선명   역ID        역명  승차총승객수  하차총승객수      등록일자\n",
      "0      20190601  우이신설선  4706        삼양    1785    1897  20190604\n",
      "1      20190601  우이신설선  4705        화계    2942    2606  20190604\n",
      "2      20190601  우이신설선  4704       가오리    3623    3408  20190604\n",
      "3      20190601  우이신설선  4703  4.19민주묘지    2738    2414  20190604\n",
      "4      20190601  우이신설선  4702      솔밭공원    2178    2172  20190604\n",
      "...         ...    ...   ...       ...     ...     ...       ...\n",
      "17719  20190630    2호선   204     을지로4가    4940    4668  20190703\n",
      "17720  20190630    2호선   203     을지로3가   12043   11854  20190703\n",
      "17721  20190630    2호선   202     을지로입구   31622   29723  20190703\n",
      "17722  20190630    2호선   201        시청   10178    8214  20190703\n",
      "17723  20190630    1호선   159       동묘앞   13859   14352  20190703\n",
      "\n",
      "[17724 rows x 7 columns]\n",
      "           사용일자  노선명   역ID     역명  승차총승객수  하차총승객수      등록일자\n",
      "0      20190101  경춘선  1323     가평    1520    1436  20190104\n",
      "1      20190101  경춘선  1322     상천     275     114  20190104\n",
      "2      20190101  경춘선  1321     청평    1509    1083  20190104\n",
      "3      20190101  경춘선  1320    대성리     357     271  20190104\n",
      "4      20190101  경춘선  1319     마석    1772    1963  20190104\n",
      "...         ...  ...   ...    ...     ...     ...       ...\n",
      "99337  20190630  2호선   204  을지로4가    4940    4668  20190703\n",
      "99338  20190630  2호선   203  을지로3가   12043   11854  20190703\n",
      "99339  20190630  2호선   202  을지로입구   31622   29723  20190703\n",
      "99340  20190630  2호선   201     시청   10178    8214  20190703\n",
      "99341  20190630  1호선   159    동묘앞   13859   14352  20190703\n",
      "\n",
      "[99342 rows x 7 columns]\n"
     ]
    }
   ],
   "source": [
    "# 폴더 읽어서 반복문 수행 \n",
    "\n",
    "import os\n",
    "\n",
    "dirpath = './rawfiles/data/'\n",
    "files = os.listdir(dirpath)\n",
    "\n",
    "print(files)\n",
    "\n",
    "# 빈 데이터 프레임 준비\n",
    "raw = pd.DataFrame()\n",
    "\n",
    "\n",
    "for file in files:\n",
    "    temp = pd.read_csv(dirpath + file)\n",
    "    print(temp)\n",
    "    raw = raw.append(temp, ignore_index =True)  # pandas는 변수에 한번더 저장해야한다.\n",
    "    \n",
    "print(raw)\n",
    "\n"
   ]
  },
  {
   "cell_type": "code",
   "execution_count": 4,
   "metadata": {},
   "outputs": [],
   "source": [
    "#raw = raw.reset_index(drop = True)"
   ]
  },
  {
   "cell_type": "code",
   "execution_count": 4,
   "metadata": {
    "scrolled": true
   },
   "outputs": [
    {
     "name": "stdout",
     "output_type": "stream",
     "text": [
      "5\n",
      "토\n"
     ]
    }
   ],
   "source": [
    "from datetime import datetime\n",
    "\n",
    "s ='20190105'\n",
    "date =datetime.strptime(s,'%Y%m%d')\n",
    "\n",
    "weekday_dict = ['월','화','수','목','금','토','일']\n",
    "weekday_index = date.weekday()\n",
    "print(weekday_index)\n",
    "print(weekday_dict[weekday_index])"
   ]
  },
  {
   "cell_type": "code",
   "execution_count": null,
   "metadata": {},
   "outputs": [],
   "source": []
  },
  {
   "cell_type": "code",
   "execution_count": 5,
   "metadata": {},
   "outputs": [],
   "source": [
    "# 날짜 컬럼을 불러와서, 순서대로 요일을 좀곰허요 리스트에 저장\n",
    "\n",
    "weekday_dict = ['월','화','수','목','금','토','일']\n",
    "weekday_list = []\n",
    "\n",
    "for date_str in raw['사용일자']:\n",
    "    date = datetime.strptime(str(date_str), \"%Y%m%d\")\n",
    "    weekday_index = date.weekday()\n",
    "    weekday = weekday_dict[weekday_index]\n",
    "    \n",
    "    weekday_list.append(weekday)"
   ]
  },
  {
   "cell_type": "code",
   "execution_count": 6,
   "metadata": {},
   "outputs": [
    {
     "data": {
      "text/html": [
       "<div>\n",
       "<style scoped>\n",
       "    .dataframe tbody tr th:only-of-type {\n",
       "        vertical-align: middle;\n",
       "    }\n",
       "\n",
       "    .dataframe tbody tr th {\n",
       "        vertical-align: top;\n",
       "    }\n",
       "\n",
       "    .dataframe thead th {\n",
       "        text-align: right;\n",
       "    }\n",
       "</style>\n",
       "<table border=\"1\" class=\"dataframe\">\n",
       "  <thead>\n",
       "    <tr style=\"text-align: right;\">\n",
       "      <th></th>\n",
       "      <th>사용일자</th>\n",
       "      <th>노선명</th>\n",
       "      <th>역ID</th>\n",
       "      <th>역명</th>\n",
       "      <th>승차총승객수</th>\n",
       "      <th>하차총승객수</th>\n",
       "      <th>등록일자</th>\n",
       "      <th>요일</th>\n",
       "    </tr>\n",
       "  </thead>\n",
       "  <tbody>\n",
       "    <tr>\n",
       "      <th>0</th>\n",
       "      <td>20190101</td>\n",
       "      <td>경춘선</td>\n",
       "      <td>1323</td>\n",
       "      <td>가평</td>\n",
       "      <td>1520</td>\n",
       "      <td>1436</td>\n",
       "      <td>20190104</td>\n",
       "      <td>화</td>\n",
       "    </tr>\n",
       "    <tr>\n",
       "      <th>1</th>\n",
       "      <td>20190101</td>\n",
       "      <td>경춘선</td>\n",
       "      <td>1322</td>\n",
       "      <td>상천</td>\n",
       "      <td>275</td>\n",
       "      <td>114</td>\n",
       "      <td>20190104</td>\n",
       "      <td>화</td>\n",
       "    </tr>\n",
       "    <tr>\n",
       "      <th>2</th>\n",
       "      <td>20190101</td>\n",
       "      <td>경춘선</td>\n",
       "      <td>1321</td>\n",
       "      <td>청평</td>\n",
       "      <td>1509</td>\n",
       "      <td>1083</td>\n",
       "      <td>20190104</td>\n",
       "      <td>화</td>\n",
       "    </tr>\n",
       "    <tr>\n",
       "      <th>3</th>\n",
       "      <td>20190101</td>\n",
       "      <td>경춘선</td>\n",
       "      <td>1320</td>\n",
       "      <td>대성리</td>\n",
       "      <td>357</td>\n",
       "      <td>271</td>\n",
       "      <td>20190104</td>\n",
       "      <td>화</td>\n",
       "    </tr>\n",
       "    <tr>\n",
       "      <th>4</th>\n",
       "      <td>20190101</td>\n",
       "      <td>경춘선</td>\n",
       "      <td>1319</td>\n",
       "      <td>마석</td>\n",
       "      <td>1772</td>\n",
       "      <td>1963</td>\n",
       "      <td>20190104</td>\n",
       "      <td>화</td>\n",
       "    </tr>\n",
       "  </tbody>\n",
       "</table>\n",
       "</div>"
      ],
      "text/plain": [
       "       사용일자  노선명   역ID   역명  승차총승객수  하차총승객수      등록일자 요일\n",
       "0  20190101  경춘선  1323   가평    1520    1436  20190104  화\n",
       "1  20190101  경춘선  1322   상천     275     114  20190104  화\n",
       "2  20190101  경춘선  1321   청평    1509    1083  20190104  화\n",
       "3  20190101  경춘선  1320  대성리     357     271  20190104  화\n",
       "4  20190101  경춘선  1319   마석    1772    1963  20190104  화"
      ]
     },
     "execution_count": 6,
     "metadata": {},
     "output_type": "execute_result"
    }
   ],
   "source": [
    "raw['요일'] = weekday_list\n",
    "raw.head()"
   ]
  },
  {
   "cell_type": "code",
   "execution_count": 8,
   "metadata": {},
   "outputs": [],
   "source": [
    "raw = raw[['사용일자',  '요일' , '노선명', '역ID', '역명', '승차총승객수', '하차총승객수', '등록일자']]"
   ]
  },
  {
   "cell_type": "raw",
   "metadata": {},
   "source": []
  },
  {
   "cell_type": "code",
   "execution_count": 9,
   "metadata": {},
   "outputs": [],
   "source": [
    "raw.to_excel('./rawfiles/data/subway_raw.xlsx', index =False)"
   ]
  }
 ],
 "metadata": {
  "kernelspec": {
   "display_name": "Python 3",
   "language": "python",
   "name": "python3"
  },
  "language_info": {
   "codemirror_mode": {
    "name": "ipython",
    "version": 3
   },
   "file_extension": ".py",
   "mimetype": "text/x-python",
   "name": "python",
   "nbconvert_exporter": "python",
   "pygments_lexer": "ipython3",
   "version": "3.7.4"
  }
 },
 "nbformat": 4,
 "nbformat_minor": 2
}
